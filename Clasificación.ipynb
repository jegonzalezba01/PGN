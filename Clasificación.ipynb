{
 "cells": [
  {
   "cell_type": "code",
   "execution_count": null,
   "metadata": {},
   "outputs": [],
   "source": [
    "# Librerias\n",
    "import pandas as pd\n",
    "import re"
   ]
  },
  {
   "cell_type": "code",
   "execution_count": null,
   "metadata": {},
   "outputs": [],
   "source": [
    "# Leemos la base de datos a analizar\n",
    "Df=pd.read_excel('120231032408661_00003.xlsx',sheet_name='AFRO')"
   ]
  },
  {
   "cell_type": "code",
   "execution_count": null,
   "metadata": {},
   "outputs": [],
   "source": [
    "# Estandarizar los datos para depurar y obtener un trabajo uniforme\n",
    "def estandarizar(var):\n",
    "    # Convertir una columna en tipo string\n",
    "    Df[var]=Df[var].astype('string')\n",
    "    # Se convierten los registros en mayusculas\n",
    "    Df[var]=Df[var].str.upper()\n",
    "    # Se eliminan los espacios en blanco en ambos extremos\n",
    "    Df[var]=Df[var].str.strip()\n",
    "\n",
    "# Clasificacion de las variables encontradas\n",
    "def clasificacion(var): \n",
    "    \n",
    "    clases=[]\n",
    "\n",
    "    for i in range(0,len(Df[var])):\n",
    "        if Df[var][i] not in clases:\n",
    "            clases.append(Df[var][i])\n",
    "\n",
    "    Clases=pd.DataFrame()\n",
    "    Clases['Variables']=clases\n",
    "\n",
    "    return Clases\n",
    "\n",
    "# La cantidad de registros por cada variable\n",
    "def cantidad_por_variable(var): \n",
    "\n",
    "    cant=[]\n",
    "\n",
    "    for i in range(0,len(clasificacion(var))):\n",
    "        a=len(Df[Df[var]==clasificacion(var)['Variables'][i]])\n",
    "        cant.append(a)\n",
    "\n",
    "    df=clasificacion(var)\n",
    "    df['Cuenta de registros']=cant\n",
    "    df=df.sort_values('Cuenta de registros',ascending=False).reset_index(drop=True)\n",
    "\n",
    "    return df"
   ]
  },
  {
   "cell_type": "code",
   "execution_count": null,
   "metadata": {},
   "outputs": [],
   "source": [
    "# Una definición para resumir el trabajo\n",
    "def Analisis(var):\n",
    "    estandarizar(var)\n",
    "    clasificacion(var)\n",
    "    cantidad_por_variable(var)\n",
    "    return cantidad_por_variable(var)\n",
    "\n",
    "# Grafica en formato Pie para evidenciar las cantidades porcentuales\n",
    "def Grafica(var):\n",
    "    df=Analisis(var)\n",
    "    a=df.plot(kind='pie', y='Cuenta de registros', autopct='%1.1f%%',labels=df['Variables'],figsize=(10, 10))\n",
    "    return a"
   ]
  }
 ],
 "metadata": {
  "language_info": {
   "name": "python"
  },
  "orig_nbformat": 4
 },
 "nbformat": 4,
 "nbformat_minor": 2
}
